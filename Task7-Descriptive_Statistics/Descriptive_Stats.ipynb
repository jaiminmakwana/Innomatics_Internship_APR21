{
 "cells": [
  {
   "cell_type": "markdown",
   "metadata": {},
   "source": [
    "### Descriptive Statistics\n",
    "<pre>\n",
    "Statistics is a science of collecting, organizing, presenting, analyzing and interpreting the data in a effective way to get some kind of insights from the given dataset.\n",
    "There are two types of statistics:\n",
    "1.) Descriptive Statistics\n",
    "2.) Inferential Statistics\n",
    "\n",
    "So, what is Descriptive Statistics ?\n",
    "Descriptive statistics are brief descriptive coefficients that summarize a given dataset, which can be either a representation of the entire or a sample of a population. Descriptive statistics are broken down into two parts: Measures of central tendency and Measures of Spread/Variability.\n",
    "\n",
    "i) Measures of central tendency:\n",
    "   A measure of central tendency is a single value that attempts to describe a set of data by          identifying the central position within that set of data.\n",
    "\n",
    "</pre>\n",
    "\n",
    "$ \\succ Mean \\\\\n",
    "\\succ Median \\\\ \n",
    "\\succ Mode $"
   ]
  },
  {
   "cell_type": "code",
   "execution_count": 1,
   "metadata": {},
   "outputs": [],
   "source": [
    "import numpy as np\n",
    "import pandas as pd"
   ]
  },
  {
   "cell_type": "code",
   "execution_count": 2,
   "metadata": {},
   "outputs": [
    {
     "data": {
      "text/html": [
       "<div>\n",
       "<style scoped>\n",
       "    .dataframe tbody tr th:only-of-type {\n",
       "        vertical-align: middle;\n",
       "    }\n",
       "\n",
       "    .dataframe tbody tr th {\n",
       "        vertical-align: top;\n",
       "    }\n",
       "\n",
       "    .dataframe thead th {\n",
       "        text-align: right;\n",
       "    }\n",
       "</style>\n",
       "<table border=\"1\" class=\"dataframe\">\n",
       "  <thead>\n",
       "    <tr style=\"text-align: right;\">\n",
       "      <th></th>\n",
       "      <th>Mthly_HH_Income</th>\n",
       "      <th>Mthly_HH_Expense</th>\n",
       "      <th>No_of_Fly_Members</th>\n",
       "      <th>Emi_or_Rent_Amt</th>\n",
       "      <th>Annual_HH_Income</th>\n",
       "      <th>Highest_Qualified_Member</th>\n",
       "      <th>No_of_Earning_Members</th>\n",
       "    </tr>\n",
       "  </thead>\n",
       "  <tbody>\n",
       "    <tr>\n",
       "      <th>0</th>\n",
       "      <td>5000</td>\n",
       "      <td>8000</td>\n",
       "      <td>3</td>\n",
       "      <td>2000</td>\n",
       "      <td>64200</td>\n",
       "      <td>Under-Graduate</td>\n",
       "      <td>1</td>\n",
       "    </tr>\n",
       "    <tr>\n",
       "      <th>1</th>\n",
       "      <td>6000</td>\n",
       "      <td>7000</td>\n",
       "      <td>2</td>\n",
       "      <td>3000</td>\n",
       "      <td>79920</td>\n",
       "      <td>Illiterate</td>\n",
       "      <td>1</td>\n",
       "    </tr>\n",
       "    <tr>\n",
       "      <th>2</th>\n",
       "      <td>10000</td>\n",
       "      <td>4500</td>\n",
       "      <td>2</td>\n",
       "      <td>0</td>\n",
       "      <td>112800</td>\n",
       "      <td>Under-Graduate</td>\n",
       "      <td>1</td>\n",
       "    </tr>\n",
       "    <tr>\n",
       "      <th>3</th>\n",
       "      <td>10000</td>\n",
       "      <td>2000</td>\n",
       "      <td>1</td>\n",
       "      <td>0</td>\n",
       "      <td>97200</td>\n",
       "      <td>Illiterate</td>\n",
       "      <td>1</td>\n",
       "    </tr>\n",
       "    <tr>\n",
       "      <th>4</th>\n",
       "      <td>12500</td>\n",
       "      <td>12000</td>\n",
       "      <td>2</td>\n",
       "      <td>3000</td>\n",
       "      <td>147000</td>\n",
       "      <td>Graduate</td>\n",
       "      <td>1</td>\n",
       "    </tr>\n",
       "  </tbody>\n",
       "</table>\n",
       "</div>"
      ],
      "text/plain": [
       "   Mthly_HH_Income  Mthly_HH_Expense  No_of_Fly_Members  Emi_or_Rent_Amt  \\\n",
       "0             5000              8000                  3             2000   \n",
       "1             6000              7000                  2             3000   \n",
       "2            10000              4500                  2                0   \n",
       "3            10000              2000                  1                0   \n",
       "4            12500             12000                  2             3000   \n",
       "\n",
       "   Annual_HH_Income Highest_Qualified_Member  No_of_Earning_Members  \n",
       "0             64200           Under-Graduate                      1  \n",
       "1             79920               Illiterate                      1  \n",
       "2            112800           Under-Graduate                      1  \n",
       "3             97200               Illiterate                      1  \n",
       "4            147000                 Graduate                      1  "
      ]
     },
     "execution_count": 2,
     "metadata": {},
     "output_type": "execute_result"
    }
   ],
   "source": [
    "df = pd.read_csv('data.csv')\n",
    "df.head()"
   ]
  },
  {
   "cell_type": "code",
   "execution_count": 3,
   "metadata": {},
   "outputs": [
    {
     "data": {
      "text/html": [
       "<div>\n",
       "<style scoped>\n",
       "    .dataframe tbody tr th:only-of-type {\n",
       "        vertical-align: middle;\n",
       "    }\n",
       "\n",
       "    .dataframe tbody tr th {\n",
       "        vertical-align: top;\n",
       "    }\n",
       "\n",
       "    .dataframe thead th {\n",
       "        text-align: right;\n",
       "    }\n",
       "</style>\n",
       "<table border=\"1\" class=\"dataframe\">\n",
       "  <thead>\n",
       "    <tr style=\"text-align: right;\">\n",
       "      <th></th>\n",
       "      <th>Mthly_HH_Income</th>\n",
       "      <th>Mthly_HH_Expense</th>\n",
       "      <th>No_of_Fly_Members</th>\n",
       "      <th>Emi_or_Rent_Amt</th>\n",
       "      <th>Annual_HH_Income</th>\n",
       "      <th>No_of_Earning_Members</th>\n",
       "    </tr>\n",
       "  </thead>\n",
       "  <tbody>\n",
       "    <tr>\n",
       "      <th>count</th>\n",
       "      <td>50.000000</td>\n",
       "      <td>50.000000</td>\n",
       "      <td>50.000000</td>\n",
       "      <td>50.000000</td>\n",
       "      <td>5.000000e+01</td>\n",
       "      <td>50.000000</td>\n",
       "    </tr>\n",
       "    <tr>\n",
       "      <th>mean</th>\n",
       "      <td>41558.000000</td>\n",
       "      <td>18818.000000</td>\n",
       "      <td>4.060000</td>\n",
       "      <td>3060.000000</td>\n",
       "      <td>4.900190e+05</td>\n",
       "      <td>1.460000</td>\n",
       "    </tr>\n",
       "    <tr>\n",
       "      <th>std</th>\n",
       "      <td>26097.908979</td>\n",
       "      <td>12090.216824</td>\n",
       "      <td>1.517382</td>\n",
       "      <td>6241.434948</td>\n",
       "      <td>3.201358e+05</td>\n",
       "      <td>0.734291</td>\n",
       "    </tr>\n",
       "    <tr>\n",
       "      <th>min</th>\n",
       "      <td>5000.000000</td>\n",
       "      <td>2000.000000</td>\n",
       "      <td>1.000000</td>\n",
       "      <td>0.000000</td>\n",
       "      <td>6.420000e+04</td>\n",
       "      <td>1.000000</td>\n",
       "    </tr>\n",
       "    <tr>\n",
       "      <th>25%</th>\n",
       "      <td>23550.000000</td>\n",
       "      <td>10000.000000</td>\n",
       "      <td>3.000000</td>\n",
       "      <td>0.000000</td>\n",
       "      <td>2.587500e+05</td>\n",
       "      <td>1.000000</td>\n",
       "    </tr>\n",
       "    <tr>\n",
       "      <th>50%</th>\n",
       "      <td>35000.000000</td>\n",
       "      <td>15500.000000</td>\n",
       "      <td>4.000000</td>\n",
       "      <td>0.000000</td>\n",
       "      <td>4.474200e+05</td>\n",
       "      <td>1.000000</td>\n",
       "    </tr>\n",
       "    <tr>\n",
       "      <th>75%</th>\n",
       "      <td>50375.000000</td>\n",
       "      <td>25000.000000</td>\n",
       "      <td>5.000000</td>\n",
       "      <td>3500.000000</td>\n",
       "      <td>5.947200e+05</td>\n",
       "      <td>2.000000</td>\n",
       "    </tr>\n",
       "    <tr>\n",
       "      <th>max</th>\n",
       "      <td>100000.000000</td>\n",
       "      <td>50000.000000</td>\n",
       "      <td>7.000000</td>\n",
       "      <td>35000.000000</td>\n",
       "      <td>1.404000e+06</td>\n",
       "      <td>4.000000</td>\n",
       "    </tr>\n",
       "  </tbody>\n",
       "</table>\n",
       "</div>"
      ],
      "text/plain": [
       "       Mthly_HH_Income  Mthly_HH_Expense  No_of_Fly_Members  Emi_or_Rent_Amt  \\\n",
       "count        50.000000         50.000000          50.000000        50.000000   \n",
       "mean      41558.000000      18818.000000           4.060000      3060.000000   \n",
       "std       26097.908979      12090.216824           1.517382      6241.434948   \n",
       "min        5000.000000       2000.000000           1.000000         0.000000   \n",
       "25%       23550.000000      10000.000000           3.000000         0.000000   \n",
       "50%       35000.000000      15500.000000           4.000000         0.000000   \n",
       "75%       50375.000000      25000.000000           5.000000      3500.000000   \n",
       "max      100000.000000      50000.000000           7.000000     35000.000000   \n",
       "\n",
       "       Annual_HH_Income  No_of_Earning_Members  \n",
       "count      5.000000e+01              50.000000  \n",
       "mean       4.900190e+05               1.460000  \n",
       "std        3.201358e+05               0.734291  \n",
       "min        6.420000e+04               1.000000  \n",
       "25%        2.587500e+05               1.000000  \n",
       "50%        4.474200e+05               1.000000  \n",
       "75%        5.947200e+05               2.000000  \n",
       "max        1.404000e+06               4.000000  "
      ]
     },
     "execution_count": 3,
     "metadata": {},
     "output_type": "execute_result"
    }
   ],
   "source": [
    "df.describe()"
   ]
  },
  {
   "cell_type": "markdown",
   "metadata": {},
   "source": [
    "### Mean\n",
    "A mean is simply average of data and there are two types of mean. $ \\\\ $\n",
    "1.) Sample Mean $ \\\\ $\n",
    "2.) Population Mean\n",
    "\n",
    "> Sample mean can be derived from:\n",
    "$$ \\overline{x} = \\frac{1}{n} \\sum_{i=1}^{n} x_i $$\n",
    "\n",
    "> Population mean can be derived from:\n",
    "$$ \\mu = \\frac{1}{N} \\sum_{i=1}^{N} x_i $$\n",
    "\n",
    "Example:\n",
    "\n",
    "num = {4, 5, 3, 6, 6, 9, 10, 2, 5, 11}\n",
    "\n",
    "$$ \\overline{x} = \\frac{1}{n} \\sum_{i=1}^{n} x_i $$  \n",
    "\n",
    "$$ \\overline{x} = \\frac{4+5+3+6+6+9+10+2+5+11}{10}  $$\n",
    "\n",
    "$$ \\overline{x} = \\frac{61}{10}  $$\n",
    "\n",
    "$$ \\overline{x} = 6.1 $$\n"
   ]
  },
  {
   "cell_type": "code",
   "execution_count": 4,
   "metadata": {},
   "outputs": [
    {
     "name": "stdout",
     "output_type": "stream",
     "text": [
      "Average Monthly income: 41558.0\n",
      "Average Monthly income: 41558.0\n"
     ]
    }
   ],
   "source": [
    "# Using predefined function mean()\n",
    "print('Average Monthly income: ' + str(df['Mthly_HH_Income'].mean()))\n",
    "\n",
    "# Without using predefined function mean()\n",
    "summ = 0\n",
    "for i in df['Mthly_HH_Income']:\n",
    "    summ += i\n",
    "print('Average Monthly income:', summ/len(df[['Mthly_HH_Income']]))\n"
   ]
  },
  {
   "cell_type": "markdown",
   "metadata": {},
   "source": [
    "### Median\n",
    "Median is a middle value of data after arranging the data in ascending order.\n",
    "\n",
    "$$\n",
    "sign(x) = \\left\\{\n",
    "    \\begin{array}\\\\\n",
    "        \\left( \\frac{n+1}{2} \\right)^{th} element & \\mbox{if } \\ n \\ is \\ odd \\\\ \\\\\n",
    "        \\frac{\\left( \\frac{n}{2} \\right)^{th} element + \\left( \\frac{n}{2} + 1 \\right)^{th} element}{2} & \\mbox{if } \\ n \\ is \\ even \\\\\n",
    "    \\end{array}\n",
    "\\right.\n",
    "$$\n",
    "\n",
    "Example:\n",
    "\n",
    "num = {4, 5, 3, 6, 6, 9, 10, 2, 5, 11}\n",
    "\n",
    "arranged_data_in_ascending = {2, 3, 4, 5, 5, 6, 6, 9, 10, 11}\n",
    "\n",
    "Now, n is 10 (even), hence by using formula\n",
    "\n",
    "$$ median = \\frac{\\left( 5+6 \\right)}{2} $$\n",
    "\n",
    "$$ median = 5.5 $$"
   ]
  },
  {
   "cell_type": "code",
   "execution_count": 5,
   "metadata": {},
   "outputs": [
    {
     "name": "stdout",
     "output_type": "stream",
     "text": [
      "Median for Monthly income: 35000.0\n",
      "Median for Monthly income: 35000.0\n"
     ]
    }
   ],
   "source": [
    "# Using predefined function median()\n",
    "print('Median for Monthly income: ' + str(df['Mthly_HH_Income'].median()))\n",
    "\n",
    "# Without using predefined function median()\n",
    "l = len(df['Mthly_HH_Income'])\n",
    "lst = df['Mthly_HH_Income'].values.tolist()\n",
    "lst.sort()\n",
    "  \n",
    "if l % 2 == 0:\n",
    "    med1 = lst[l//2]\n",
    "    med2 = lst[l//2 - 1]\n",
    "    median = (med1 + med2)/2\n",
    "else:\n",
    "    median = lst[n//2]\n",
    "print(\"Median for Monthly income: \" + str(median))"
   ]
  },
  {
   "cell_type": "markdown",
   "metadata": {},
   "source": [
    "### Mode\n",
    "\n",
    ">Mode is the number which is occuring highest time in the dataset. $ \\\\ $\n",
    ">num = {4, 5, 3, 6, 6, 9, 10, 2, 5, 11} $ \\\\ $\n",
    ">Here, 5 and 6 are occuring 2 times; hence mode = 5 and 6 $ \\\\ $\n",
    ">If only 1 number with highest frequency then only 1 value as a mode will be considered. $ \\\\ $\n",
    ">If 3 numbers with same frequency then 3 values as a mode will be considered and so on. $ \\\\ $\n",
    ">Any set of numbers with more than one mode is multimodal. $ \\\\ $\n",
    ">$ \\textbf{Note:} $ There is a chance that there is no mode in a dataset. \n"
   ]
  },
  {
   "cell_type": "code",
   "execution_count": 6,
   "metadata": {},
   "outputs": [
    {
     "name": "stdout",
     "output_type": "stream",
     "text": [
      "Mode of Monthly income: 45000\n",
      "Mode of Monthly income is/are: 45000\n"
     ]
    }
   ],
   "source": [
    "from collections import Counter\n",
    "\n",
    "# Using predefined function mode()\n",
    "print('Mode of Monthly income: ' + str(df['Mthly_HH_Income'].mode()[0]))\n",
    "\n",
    "# Without using predefined function mode()\n",
    "lst = df['Mthly_HH_Income'].values.tolist()\n",
    "l = len(lst)\n",
    "  \n",
    "data = Counter(lst)\n",
    "# print(data)\n",
    "\n",
    "data1 = dict(data)\n",
    "# print(get_mode)\n",
    "\n",
    "mode = [k for k, v in data1.items() if v == max(list(data.values()))]\n",
    "# print(mode)\n",
    "\n",
    "if len(mode) == l:\n",
    "    print(\"No mode found\")\n",
    "else:\n",
    "    print(\"Mode of Monthly income is/are:\", ', '.join(map(str, mode)))"
   ]
  },
  {
   "cell_type": "markdown",
   "metadata": {},
   "source": [
    "### Variance\n",
    "Variance shows how our entire dataset is going to vary, across the mean.\n",
    "\n",
    "$$ variance \\ \\sigma^2 = \\frac{\\sum_{i=1}^{N} \\left( x_i - \\mu \\right)^2}{N}  $$\n",
    "\n",
    "Let's assume the dataset is equally dispersed, then data could be available in both sides of the mean and we'll get a bell-shaped curve as shown below:\n",
    "\n",
    "> $ \\textbf{Note:} $ when $ \\sigma^2 > \\mu $ or if $ \\sigma^2 $ increases, it means data available in dataset is too far from its mean."
   ]
  },
  {
   "cell_type": "markdown",
   "metadata": {},
   "source": [
    "<img src=\"bell_curve.jpg\" width=\"400\"/>"
   ]
  },
  {
   "cell_type": "markdown",
   "metadata": {},
   "source": [
    "If the dataset is varying alot, we need to do treatment again and need to make a concentric dataset, which revolves around a one single center across the mean and so, it will be near to the mean. We can't give varying dataset to any ML/DL model.\n",
    "\n",
    "We need a dataset in which $ \\sigma^2 $ not too high and not too low.\n",
    "\n",
    "If the variance is high, we can say that the dataset is distributed alot."
   ]
  },
  {
   "cell_type": "code",
   "execution_count": 7,
   "metadata": {},
   "outputs": [
    {
     "name": "stdout",
     "output_type": "stream",
     "text": [
      "Variance for Monthly income: 681100853.0612245\n",
      "Variance for Monthly income: 681100853.0612245\n"
     ]
    }
   ],
   "source": [
    "# Using predefined method variance and var()\n",
    "from statistics import variance\n",
    "print('Variance for Monthly income: ' + str(variance(df['Mthly_HH_Income'])))\n",
    "# print('Variance for Monthly income: ' + str(df['Mthly_HH_Income'].var()))\n",
    "\n",
    "# Without using predefined method \n",
    "lst = df['Mthly_HH_Income'].values.tolist()\n",
    "\n",
    "def calvar(data):\n",
    "    l = len(data)\n",
    "    mean = sum(data)/l\n",
    "    ans = 0.0\n",
    "    for el in data:\n",
    "        ans += (float(el) - mean)**2\n",
    "    ans = ans/float(l-1)\n",
    "    print('Variance for Monthly income:', ans)\n",
    "\n",
    "calvar(lst)"
   ]
  },
  {
   "cell_type": "markdown",
   "metadata": {},
   "source": [
    "### Standard Deviation\n",
    "Standard deviation is a measure of dispersion of given dataset relative to its mean.\n",
    "It is a square root of a variance.\n",
    "\n",
    "$$ Standard Deviation \\ \\sigma = \\sqrt{\\frac{\\sum_{i=1}^{N} \\left( x_i - \\mu \\right)^2}{N}} $$\n",
    "\n",
    "We can say that Standard deviation is exact distance from mean.\n",
    "\n",
    "The $ \\sigma $ we found, $ \\\\ $\n",
    "For an approximately normal dataset, the values within one standard deviation(1$ \\sigma $) of the mean account for about 68% of the total dataset; while within two standard deviations(2$ \\sigma $) account for about 95%; and within three standard deviations(3$ \\sigma $) account for about 99.7%"
   ]
  },
  {
   "cell_type": "markdown",
   "metadata": {},
   "source": [
    "<img src=\"68-95-97.5_rule.png\"/>"
   ]
  },
  {
   "cell_type": "code",
   "execution_count": 8,
   "metadata": {},
   "outputs": [
    {
     "name": "stdout",
     "output_type": "stream",
     "text": [
      "Standard deviation for Monthly income: 26097.908978713687\n",
      "Standard Deviation for Monthly income: 26097.908978713687\n"
     ]
    }
   ],
   "source": [
    "# Using predefined method std()\n",
    "print('Standard deviation for Monthly income: ' + str(df['Mthly_HH_Income'].std()))\n",
    "\n",
    "# Without using predefined method \n",
    "lst = df['Mthly_HH_Income'].values.tolist()\n",
    "def stddev(data):\n",
    "    l = len(data)\n",
    "    mean = sum(data)/l\n",
    "    ans = 0.0\n",
    "    for el in data:\n",
    "        ans += (float(el) - mean)**2\n",
    "    ans = (ans/float(l-1)) ** 0.5\n",
    "    return ans\n",
    "print(\"Standard Deviation for Monthly income:\",stddev(lst))"
   ]
  },
  {
   "cell_type": "markdown",
   "metadata": {},
   "source": [
    "### Covariance\n",
    "\n",
    "If we want to find the relation between two features from the dataset, covariance canbe used. Covariance helps us to quantify the relationship between features, random variables in given dataset.\n",
    "\n",
    "|size of house||Price|\n",
    "|---||---|\n",
    "|1000 sqm||100k\\$|\n",
    "|1500 sqm||150k\\$|\n",
    "|2000 sqm||200k\\$|\n",
    "\n",
    "\n",
    "> As the size of house increases -> Price increases\n",
    "\n",
    "$$ cov(size,price) = \\frac{1}{n} \\sum_{i=1}^{n} (x_i - \\mu_x)*(y_i- \\mu_y) $$\n",
    "\n",
    "if, $ x \\uparrow y \\uparrow \\hspace{0.3cm} \\rightarrow cov +ve $ \\\n",
    "if, $ x \\uparrow y \\downarrow \\hspace{0.3cm} \\rightarrow cov -ve $ \\\n",
    "if, $ x \\downarrow y \\downarrow \\hspace{0.3cm} \\rightarrow cov +ve $\n",
    "\n",
    "\n",
    "We can also relate covariance and variance as shown below:\n",
    "\n",
    "$$ variance \\ \\sigma^2(x) = \\frac{\\sum_{i=1}^{N} \\left( x_i - \\mu \\right)^2}{N}  $$\n",
    "\n",
    "$$ variance \\ \\sigma^2(x) = \\frac{1}{n} \\sum_{i=1}^{n} (x_i - \\mu_x) * (x_i - \\mu_x) $$\n",
    "\n",
    "$$ cov(x,x) = var(x) $$"
   ]
  },
  {
   "cell_type": "code",
   "execution_count": 9,
   "metadata": {},
   "outputs": [
    {
     "name": "stdout",
     "output_type": "stream",
     "text": [
      "Covariance using predefined method: 681100853.0612245\n",
      "Covariance without using predefined method: 681100853.0612245\n"
     ]
    }
   ],
   "source": [
    "# Using preedefined method cov()\n",
    "a = df['Mthly_HH_Income']\n",
    "b = df['Mthly_HH_Income']\n",
    "print('Covariance using predefined method:', a.cov(b))\n",
    "\n",
    "# Without using predefined method\n",
    "meana = sum(a)/len(a)\n",
    "meanb = sum(b)/len(b)\n",
    "\n",
    "def covar(a, b, meana, meanb):\n",
    "    cov = 0.0\n",
    "    for i in range(0, len(a)):\n",
    "        cov += (a[i] - meana) * (b[i] - meanb)\n",
    "    return (cov / (len(a)-1))\n",
    "ans = covar(a, b, meana, meanb)\n",
    "print('Covariance without using predefined method:', ans)"
   ]
  },
  {
   "cell_type": "markdown",
   "metadata": {},
   "source": [
    "### Correlation\n",
    "Correlation helps to find how strongly 2 features (x & y) are correlated and also gives the direction of relationship.\n",
    "\n",
    "Here we are going to discuss 2 types of correlation.\n",
    "1) Pearson Correlation Coefficient $ \\\\ $\n",
    "2) Spearman's rank correlation coefficient\n",
    "\n",
    "#### Pearson Correlation Coefficient\n",
    "$$ Pearson \\ Correlation \\ Coefficient = \\rho (x,y) = \\frac{cov(x,y)}{\\sigma_x \\sigma_y} $$ \\\n",
    "$$\\rho (x,y) = -1 \\leq \\rho \\leq 1 $$"
   ]
  },
  {
   "cell_type": "markdown",
   "metadata": {},
   "source": [
    "Correlation is used in Feature Selection\n",
    "\n",
    "If we have 2 features x and y and $ cov(x,y) = 1  ; \\hspace{0.3cm} x\\uparrow \\ y\\uparrow $\n",
    "\n",
    "It means that if the value of x increases, value of y also increase. So we can conclude that both feature works same and hence we can drop one of them."
   ]
  },
  {
   "cell_type": "code",
   "execution_count": 10,
   "metadata": {},
   "outputs": [
    {
     "name": "stdout",
     "output_type": "stream",
     "text": [
      "Using corr() function: 0.6492152549316462\n",
      "Without using any predefined function: 0.6492152549316461\n"
     ]
    }
   ],
   "source": [
    "# Using predefined function corr()\n",
    "ans1 = df['Mthly_HH_Expense'].corr(df['Mthly_HH_Income'])\n",
    "print(\"Using corr() function:\", ans1)\n",
    "\n",
    "# Without using predefined function\n",
    "def covar(a, b, meana, meanb):\n",
    "    cov = 0.0\n",
    "    for i in range(0, len(a)):\n",
    "        cov += (a[i] - meana) * (b[i] - meanb)\n",
    "    return (cov / (len(a)-1))\n",
    "\n",
    "def stddev(data):\n",
    "    l = len(data)\n",
    "    mean = sum(data)/l\n",
    "    ans = 0.0\n",
    "    for el in data:\n",
    "        ans += (float(el) - mean)**2\n",
    "    ans = (ans/float(l-1)) ** 0.5\n",
    "    return ans\n",
    "\n",
    "def correl(covvar, sd):\n",
    "    return covvar/sd\n",
    "\n",
    "a = df['Mthly_HH_Expense']\n",
    "b = df['Mthly_HH_Income']\n",
    "meana = sum(a)/len(a)\n",
    "meanb = sum(b)/len(b)\n",
    "cv = covar(a, b, meana, meanb)\n",
    "dataa = a.values.tolist()\n",
    "datab = b.values.tolist()\n",
    "stda = stddev(dataa)\n",
    "stdb = stddev(datab)\n",
    "# print(stda)\n",
    "# print(stdb)\n",
    "std = stda * stdb\n",
    "# print(std)\n",
    "ans = correl(cv, std)\n",
    "print(\"Without using any predefined function:\", ans)"
   ]
  },
  {
   "cell_type": "markdown",
   "metadata": {},
   "source": [
    "#### Spearman's rank correlation coefficient\n",
    "Pearson always assumes that given data is linear.\n",
    "\n",
    "Spearman's rank correlation coefficient gives correlation even if given data is non-linear."
   ]
  },
  {
   "cell_type": "markdown",
   "metadata": {},
   "source": [
    "<img src='Spearman_Corr.jpg' width=250/>"
   ]
  },
  {
   "cell_type": "markdown",
   "metadata": {},
   "source": [
    "Formula,\n",
    "\n",
    "$$ r_s = \\rho_{rg_x,rg_y} = \\frac{cov(rg_x,rg_y)}{\\sigma_{rg_x}\\sigma_{rg_y}} $$\n",
    "where,\n",
    "- $\\rho$ is a pearson corelation coefficient and applied to rank variables. \n",
    "- $ cov(rg_x,rg_y) $ is the covariance of the rank variables. \n",
    "- $ \\sigma_{rg_x}  \\sigma_{rg_y} $ are the standard deviation of the rank variables.\n",
    "\n",
    "Another formula to find coefficient,\n",
    "$$ r_s = 1 - \\frac{6\\sum d_{i}^{2}}{n(n^2 -1)} $$\n",
    "\n",
    "$ d_i  = rg(x_i) - rg(y_i)$ is the difference between two rank of each observation. \\\n",
    "$ n $ is no. of observation.\n",
    "\n",
    "\n",
    "Example:\n",
    "\n",
    "The raw data below is used to show the correlation between IQ of the person with the no. of hours spent infront of tv per week.\n"
   ]
  },
  {
   "cell_type": "markdown",
   "metadata": {},
   "source": [
    "#### Formula to find spearman rank correlation coefficient is\n",
    "$$ r_s = 1 - \\frac{6\\sum d_{i}^{2}}{n(n^2 -1)} $$\n",
    "\n",
    "here, firstly we need to calculate $ d_i^2 $. For that, we need to follow below steps.\n",
    "1) Sort the data by the 1st column $ x_i $. create new column $ x_i $ and assign it the ranked values from $ 1,2,3...,n $ \\\n",
    "2) Next, sort the data by the 2nd column $ (y_i) $, create 4th column $ y_i $ and similarly assign the ranked values $ 1,2,3...,n $ \\\n",
    "3) Create a 5th column $ d_i $ to hold the difference between two rank column $ (x_i \\&  y_i) $ \\\n",
    "4) Create one final column, $ d_i^2 $ to hold the value of column $ d_i $ squared.\n",
    "\n",
    "These four steps followed in the image."
   ]
  },
  {
   "cell_type": "markdown",
   "metadata": {},
   "source": [
    "Now we need to calculate Spearman's rank correlation coefficient.\n",
    "\n",
    "$$ r_s = 1 - \\frac{6 \\sum d_i^2}{n(n^2 - 1)} $$ \\\n",
    "$$ r_s = 1 - \\frac{6*194}{10(100 - 1)} $$ \\\n",
    "$$ r_s = -0.17575 $$ \\\n",
    "which shows that relation between IQ and no. of hours spent on tv is very less."
   ]
  },
  {
   "cell_type": "markdown",
   "metadata": {},
   "source": [
    "### Normal Distribution/Gaussian Distribution\n",
    "\n",
    "If a dataset is equally distributed across the plane or dispersed equally across the mean, then we can plot a bell shaped curve as shown below."
   ]
  },
  {
   "cell_type": "markdown",
   "metadata": {},
   "source": [
    "<img src=\"bell_curve.jpg\" width=\"400\"/>"
   ]
  },
  {
   "cell_type": "markdown",
   "metadata": {},
   "source": [
    "#### Left-Skewed Distribution\n",
    "Suppose we have a dataset; {1, 2, 3, 4, 5, 2, 4, 1, 2, 100, 110}, here dataset is dispersed between 1 and 110.\n",
    "\n",
    "In this case we will get graph something like below. It is known as left skewness. We can't pass this data in any ML or DL model. For that we need to normalize the data, first. Then we'll get the perfect bell-shaped curve."
   ]
  },
  {
   "cell_type": "markdown",
   "metadata": {},
   "source": [
    "<img src=\"skewed-left.png\">"
   ]
  },
  {
   "cell_type": "markdown",
   "metadata": {},
   "source": [
    "To get a bell-shaped curve from this data we can apply any scaling technique on data. \\\n",
    "For example, \\\n",
    "applying square root on data. \\\n",
    "If we apply sqare root on above data then \\\n",
    "$ \\sqrt{1} = 1 $  \\\n",
    "$ \\sqrt{100} = 10 $ \\\n",
    "Now our data ranges between 1 to 10, using this data we can get somewhat bell-shaped curve. \\\n",
    "we can also perform log operation for scaling \\\n",
    "If we apply log then \\\n",
    "$ log_{10}(1) = 0 $ \\\n",
    "$ log_{10}(100) = 2 $ \\\n",
    "here we get our data ranges from 0 to 2, which will give us more good bell-shaped curve. \n",
    "\n",
    "Here, we are just trying to change the scale of data, we are not changing the actual value of data or actual significance of data. \n",
    "\n",
    "There is one more thing that, we have only 1 dimensional data and we are plotting 2 dimensional graph without having 2d data. \n",
    "\n",
    "And the reason is we can find value of y using the given data from below equation. \n",
    "\n",
    "$$ y = \\frac{1}{\\sigma \\sqrt{2 \\pi}} e^{\\frac{-1}{2} (\\frac{x - \\mu}{\\sigma})^2}, -\\infty \\leq x \\leq +\\infty $$\n",
    "\n",
    "we can check the curve is bell-shaped or left-skewed or right-skewed using above formula on given dataset.\n",
    "\n",
    "when we normalize the data $ \\mu $ and $ \\sigma $ could be anything."
   ]
  },
  {
   "cell_type": "code",
   "execution_count": 11,
   "metadata": {
    "scrolled": false
   },
   "outputs": [],
   "source": [
    "from scipy.stats import norm\n",
    "import matplotlib.pyplot as plt\n",
    "import seaborn as sns\n",
    "%matplotlib inline"
   ]
  },
  {
   "cell_type": "code",
   "execution_count": 12,
   "metadata": {},
   "outputs": [
    {
     "name": "stderr",
     "output_type": "stream",
     "text": [
      "C:\\Users\\Dell\\anaconda3\\lib\\site-packages\\seaborn\\distributions.py:2551: FutureWarning: `distplot` is a deprecated function and will be removed in a future version. Please adapt your code to use either `displot` (a figure-level function with similar flexibility) or `histplot` (an axes-level function for histograms).\n",
      "  warnings.warn(msg, FutureWarning)\n"
     ]
    },
    {
     "data": {
      "text/plain": [
       "<AxesSubplot:ylabel='Density'>"
      ]
     },
     "execution_count": 12,
     "metadata": {},
     "output_type": "execute_result"
    },
    {
     "data": {
      "image/png": "[encoded data removed]",
      "text/plain": [
       "<Figure size 432x288 with 1 Axes>"
      ]
     },
     "metadata": {
      "needs_background": "light"
     },
     "output_type": "display_data"
    }
   ],
   "source": [
    "normal = np.random.normal(df['Mthly_HH_Income'])\n",
    "sns.distplot(normal)"
   ]
  },
  {
   "cell_type": "code",
   "execution_count": 13,
   "metadata": {},
   "outputs": [
    {
     "name": "stderr",
     "output_type": "stream",
     "text": [
      "C:\\Users\\Dell\\anaconda3\\lib\\site-packages\\seaborn\\distributions.py:2551: FutureWarning: `distplot` is a deprecated function and will be removed in a future version. Please adapt your code to use either `displot` (a figure-level function with similar flexibility) or `histplot` (an axes-level function for histograms).\n",
      "  warnings.warn(msg, FutureWarning)\n"
     ]
    },
    {
     "data": {
      "text/plain": [
       "<AxesSubplot:ylabel='Density'>"
      ]
     },
     "execution_count": 13,
     "metadata": {},
     "output_type": "execute_result"
    },
    {
     "data": {
      "image/png": "[encoded data removed]",
      "text/plain": [
       "<Figure size 432x288 with 1 Axes>"
      ]
     },
     "metadata": {
      "needs_background": "light"
     },
     "output_type": "display_data"
    }
   ],
   "source": [
    "normal = np.random.normal(df['Mthly_HH_Expense'])\n",
    "sns.distplot(normal)"
   ]
  },
  {
   "cell_type": "code",
   "execution_count": 14,
   "metadata": {},
   "outputs": [
    {
     "name": "stderr",
     "output_type": "stream",
     "text": [
      "C:\\Users\\Dell\\anaconda3\\lib\\site-packages\\seaborn\\distributions.py:2551: FutureWarning: `distplot` is a deprecated function and will be removed in a future version. Please adapt your code to use either `displot` (a figure-level function with similar flexibility) or `histplot` (an axes-level function for histograms).\n",
      "  warnings.warn(msg, FutureWarning)\n"
     ]
    },
    {
     "data": {
      "text/plain": [
       "<AxesSubplot:ylabel='Density'>"
      ]
     },
     "execution_count": 14,
     "metadata": {},
     "output_type": "execute_result"
    },
    {
     "data": {
      "image/png": "[encoded data removed]",
      "text/plain": [
       "<Figure size 432x288 with 1 Axes>"
      ]
     },
     "metadata": {
      "needs_background": "light"
     },
     "output_type": "display_data"
    }
   ],
   "source": [
    "normal = np.random.normal(df['Annual_HH_Income'])\n",
    "sns.distplot(normal)"
   ]
  },
  {
   "cell_type": "code",
   "execution_count": 15,
   "metadata": {},
   "outputs": [
    {
     "name": "stderr",
     "output_type": "stream",
     "text": [
      "C:\\Users\\Dell\\anaconda3\\lib\\site-packages\\seaborn\\distributions.py:2551: FutureWarning: `distplot` is a deprecated function and will be removed in a future version. Please adapt your code to use either `displot` (a figure-level function with similar flexibility) or `histplot` (an axes-level function for histograms).\n",
      "  warnings.warn(msg, FutureWarning)\n"
     ]
    },
    {
     "data": {
      "text/plain": [
       "<AxesSubplot:ylabel='Density'>"
      ]
     },
     "execution_count": 15,
     "metadata": {},
     "output_type": "execute_result"
    },
    {
     "data": {
      "image/png": "[encoded data removed]",
      "text/plain": [
       "<Figure size 432x288 with 1 Axes>"
      ]
     },
     "metadata": {
      "needs_background": "light"
     },
     "output_type": "display_data"
    }
   ],
   "source": [
    "normal = np.random.normal(df['Emi_or_Rent_Amt'])\n",
    "sns.distplot(normal)"
   ]
  },
  {
   "cell_type": "code",
   "execution_count": 16,
   "metadata": {},
   "outputs": [
    {
     "name": "stderr",
     "output_type": "stream",
     "text": [
      "C:\\Users\\Dell\\anaconda3\\lib\\site-packages\\seaborn\\distributions.py:2551: FutureWarning: `distplot` is a deprecated function and will be removed in a future version. Please adapt your code to use either `displot` (a figure-level function with similar flexibility) or `histplot` (an axes-level function for histograms).\n",
      "  warnings.warn(msg, FutureWarning)\n"
     ]
    },
    {
     "data": {
      "text/plain": [
       "<AxesSubplot:ylabel='Density'>"
      ]
     },
     "execution_count": 16,
     "metadata": {},
     "output_type": "execute_result"
    },
    {
     "data": {
      "image/png": "[encoded data removed]",
      "text/plain": [
       "<Figure size 432x288 with 1 Axes>"
      ]
     },
     "metadata": {
      "needs_background": "light"
     },
     "output_type": "display_data"
    }
   ],
   "source": [
    "normal = np.random.normal(df['No_of_Fly_Members'])\n",
    "sns.distplot(normal)"
   ]
  },
  {
   "cell_type": "markdown",
   "metadata": {},
   "source": [
    "#### No. of flying members column shows Normal distributed curve"
   ]
  },
  {
   "cell_type": "code",
   "execution_count": 17,
   "metadata": {},
   "outputs": [
    {
     "name": "stdout",
     "output_type": "stream",
     "text": [
      "Mean for No_of_Fly_Members: 4.06\n",
      "Standard Deviation for No_of_Fly_Members: 1.5173822786601394\n"
     ]
    }
   ],
   "source": [
    "print('Mean for No_of_Fly_Members: '+ str(df['No_of_Fly_Members'].mean()))\n",
    "print('Standard Deviation for No_of_Fly_Members: '+ str(df['No_of_Fly_Members'].std()))"
   ]
  },
  {
   "cell_type": "code",
   "execution_count": 18,
   "metadata": {},
   "outputs": [
    {
     "name": "stderr",
     "output_type": "stream",
     "text": [
      "C:\\Users\\Dell\\anaconda3\\lib\\site-packages\\seaborn\\distributions.py:2551: FutureWarning: `distplot` is a deprecated function and will be removed in a future version. Please adapt your code to use either `displot` (a figure-level function with similar flexibility) or `histplot` (an axes-level function for histograms).\n",
      "  warnings.warn(msg, FutureWarning)\n"
     ]
    },
    {
     "data": {
      "text/plain": [
       "<AxesSubplot:ylabel='Density'>"
      ]
     },
     "execution_count": 18,
     "metadata": {},
     "output_type": "execute_result"
    },
    {
     "data": {
      "image/png": "[encoded data removed]",
      "text/plain": [
       "<Figure size 432x288 with 1 Axes>"
      ]
     },
     "metadata": {
      "needs_background": "light"
     },
     "output_type": "display_data"
    }
   ],
   "source": [
    "normal = np.random.normal(df['No_of_Earning_Members'])\n",
    "sns.distplot(normal)"
   ]
  },
  {
   "cell_type": "markdown",
   "metadata": {},
   "source": [
    "#### No. of Earning members shows Normal distribution"
   ]
  },
  {
   "cell_type": "code",
   "execution_count": 19,
   "metadata": {},
   "outputs": [
    {
     "name": "stdout",
     "output_type": "stream",
     "text": [
      "Mean for No_of_Earning_Members: 1.46\n",
      "Standard Deviation for No_of_Earning_Members: 0.7342912729083656\n"
     ]
    }
   ],
   "source": [
    "print('Mean for No_of_Earning_Members: '+ str(df['No_of_Earning_Members'].mean()))\n",
    "print('Standard Deviation for No_of_Earning_Members: '+ str(df['No_of_Earning_Members'].std()))"
   ]
  },
  {
   "cell_type": "markdown",
   "metadata": {},
   "source": [
    "#### Standard Normal Distribution\n",
    "If $ \\mu = 0 $ and $ \\sigma = 1 $, in that case dataset is called Standard normal distributed daatset and if we have Standard Normal Distributed dataset, we will always have a perfect bell-shaped curve.\n",
    "\n",
    "Suppose we have normally distributed dataset and we are getting bell-shaped graph but $ \\mu \\neq 0 $ and $ \\sigma \\neq 1 $, then we need to do something that shown in below graph."
   ]
  },
  {
   "cell_type": "markdown",
   "metadata": {},
   "source": [
    "<img src='standardizing.svg'>"
   ]
  },
  {
   "cell_type": "markdown",
   "metadata": {},
   "source": [
    "As shown in green curve $ \\mu \\& \\sigma $ are not zero and one, respectively. If somehow we can shift this graph to the left side or we can shift entire data in a left direction, then we can get curve like blue curve in which $ \\mu = 0 $ and $ \\sigma = 1 $\n",
    "\n",
    "We can do this using Z-statistics or Z-formula\n",
    "$$ Z = \\frac{x - \\mu}{\\sigma} $$\n",
    "\n",
    "if the dataset is d = {1,2,3,1,2,1,100} then after applying Z-formula to every data in dataset we will get dataset like {-0.42,-0.39,-0.36,-0.42,-0.39,-0.42,2.44} which is standardized dataset. \n",
    "\n",
    "Now if we find $ \\mu \\ \\& \\ \\sigma$\n",
    "then,\n",
    "$ \\mu = 6.334 e^{-17} \\hspace{0.2cm} \\& \\hspace{0.2cm} \\sigma = 1 $\n",
    "\n",
    "Z-statistics says that area enclosed by bell-shaped curve is always 1."
   ]
  },
  {
   "cell_type": "code",
   "execution_count": 20,
   "metadata": {},
   "outputs": [
    {
     "data": {
      "text/html": [
       "<div>\n",
       "<style scoped>\n",
       "    .dataframe tbody tr th:only-of-type {\n",
       "        vertical-align: middle;\n",
       "    }\n",
       "\n",
       "    .dataframe tbody tr th {\n",
       "        vertical-align: top;\n",
       "    }\n",
       "\n",
       "    .dataframe thead th {\n",
       "        text-align: right;\n",
       "    }\n",
       "</style>\n",
       "<table border=\"1\" class=\"dataframe\">\n",
       "  <thead>\n",
       "    <tr style=\"text-align: right;\">\n",
       "      <th></th>\n",
       "      <th>0</th>\n",
       "      <th>1</th>\n",
       "      <th>2</th>\n",
       "      <th>3</th>\n",
       "      <th>4</th>\n",
       "      <th>5</th>\n",
       "    </tr>\n",
       "  </thead>\n",
       "  <tbody>\n",
       "    <tr>\n",
       "      <th>0</th>\n",
       "      <td>-1.415024</td>\n",
       "      <td>-0.903857</td>\n",
       "      <td>-0.705664</td>\n",
       "      <td>-0.171557</td>\n",
       "      <td>-1.343624</td>\n",
       "      <td>-0.632815</td>\n",
       "    </tr>\n",
       "    <tr>\n",
       "      <th>1</th>\n",
       "      <td>-1.376317</td>\n",
       "      <td>-0.987408</td>\n",
       "      <td>-1.371384</td>\n",
       "      <td>-0.009711</td>\n",
       "      <td>-1.294021</td>\n",
       "      <td>-0.632815</td>\n",
       "    </tr>\n",
       "    <tr>\n",
       "      <th>2</th>\n",
       "      <td>-1.221492</td>\n",
       "      <td>-1.196287</td>\n",
       "      <td>-1.371384</td>\n",
       "      <td>-0.495249</td>\n",
       "      <td>-1.190272</td>\n",
       "      <td>-0.632815</td>\n",
       "    </tr>\n",
       "    <tr>\n",
       "      <th>3</th>\n",
       "      <td>-1.221492</td>\n",
       "      <td>-1.405165</td>\n",
       "      <td>-2.037105</td>\n",
       "      <td>-0.495249</td>\n",
       "      <td>-1.239496</td>\n",
       "      <td>-0.632815</td>\n",
       "    </tr>\n",
       "    <tr>\n",
       "      <th>4</th>\n",
       "      <td>-1.124727</td>\n",
       "      <td>-0.569652</td>\n",
       "      <td>-1.371384</td>\n",
       "      <td>-0.009711</td>\n",
       "      <td>-1.082358</td>\n",
       "      <td>-0.632815</td>\n",
       "    </tr>\n",
       "  </tbody>\n",
       "</table>\n",
       "</div>"
      ],
      "text/plain": [
       "          0         1         2         3         4         5\n",
       "0 -1.415024 -0.903857 -0.705664 -0.171557 -1.343624 -0.632815\n",
       "1 -1.376317 -0.987408 -1.371384 -0.009711 -1.294021 -0.632815\n",
       "2 -1.221492 -1.196287 -1.371384 -0.495249 -1.190272 -0.632815\n",
       "3 -1.221492 -1.405165 -2.037105 -0.495249 -1.239496 -0.632815\n",
       "4 -1.124727 -0.569652 -1.371384 -0.009711 -1.082358 -0.632815"
      ]
     },
     "execution_count": 20,
     "metadata": {},
     "output_type": "execute_result"
    }
   ],
   "source": [
    "from sklearn.preprocessing import StandardScaler\n",
    "\n",
    "scalar = StandardScaler()\n",
    "new_df = df.drop(['Highest_Qualified_Member'],axis=1)\n",
    "standardized_data = pd.DataFrame(scalar.fit_transform(new_df))\n",
    "standardized_data.head()"
   ]
  },
  {
   "cell_type": "markdown",
   "metadata": {},
   "source": [
    "### Features of Normal Distribution\n",
    "\n",
    "* The mean, mode and median are all equal.\n",
    "* The curve is symmetric at the center (i.e. around the mean, μ).\n",
    "* Exactly half of the values are to the left of center and exactly half the values are to the right.\n",
    "* The total area under the curve is 1."
   ]
  },
  {
   "cell_type": "markdown",
   "metadata": {},
   "source": [
    "### Positively skewed and Negatively skewed Normal Distribution\n",
    "Sometimes we get these types of plots when we normalize the data."
   ]
  },
  {
   "cell_type": "markdown",
   "metadata": {},
   "source": [
    "<img src='neg-pos_skewed.png'>"
   ]
  },
  {
   "cell_type": "markdown",
   "metadata": {},
   "source": [
    "Left graph from above figure shows the Negative skewed Normal Distribution and Right graph shows the Positive skewed Normal Distribution. $ \\\\ $ \n",
    "At this moment, Standardization is a good idea before applying this data to ML or DL model."
   ]
  },
  {
   "cell_type": "markdown",
   "metadata": {},
   "source": [
    "### Effect on Mean, Median and Mode due to skewness\n",
    "- If the distribution of data is skewed to the $ \\textbf{left} $, the mean is less than the median, which is often less than the mode. \n",
    "$ \\\\ $\n",
    "- If the distribution of data is skewed to the $ \\textbf{right} $, the mode is often less than the median, which is less than the mean. \n"
   ]
  },
  {
   "cell_type": "markdown",
   "metadata": {},
   "source": [
    "<img src='MMM-skewness.png' width=400>"
   ]
  },
  {
   "cell_type": "markdown",
   "metadata": {},
   "source": [
    "### QQ Plot\n",
    "- QQ Plot (Quantile-Quantile plot) is a plot of two quantiles against each other. \n",
    "- A quantile is a fraction where certain values fall below that quantile. \n",
    "- For example, the median is a quantile where 50% of the data fall below that point and 50% lie above it. \n",
    "- The purpose of QQ plot is to find out if two sets of data come from the same distribution. \n",
    "- A 45 degree angle is plotted on the QQ plot; if the two data sets come from a common distribution, the points will fall on that reference line.\n",
    "- QQ plot used to find the type of distribution for a random variable whether it be a Normal Distribution, Uniform Distribution, Exponential Distribution or even Pareto Distribution. We can tell the type of distribution using the power of the QQ plot just by looking at the plot.\n",
    "Here is a picture for reference.\n"
   ]
  },
  {
   "cell_type": "markdown",
   "metadata": {},
   "source": [
    "<img src='QQplot.jpeg'>"
   ]
  },
  {
   "cell_type": "code",
   "execution_count": 21,
   "metadata": {},
   "outputs": [
    {
     "name": "stdout",
     "output_type": "stream",
     "text": [
      "Before Box cox transformation: QQ plot\n",
      "-------------------------------------\n",
      "Mthly_HH_Income\n"
     ]
    },
    {
     "data": {
      "image/png": "[encoded data removed]",
      "text/plain": [
       "<Figure size 432x288 with 1 Axes>"
      ]
     },
     "metadata": {
      "needs_background": "light"
     },
     "output_type": "display_data"
    },
    {
     "name": "stdout",
     "output_type": "stream",
     "text": [
      "\n",
      "\n",
      "Mthly_HH_Expense\n"
     ]
    },
    {
     "data": {
      "image/png": "[encoded data removed]",
      "text/plain": [
       "<Figure size 432x288 with 1 Axes>"
      ]
     },
     "metadata": {
      "needs_background": "light"
     },
     "output_type": "display_data"
    },
    {
     "name": "stdout",
     "output_type": "stream",
     "text": [
      "\n",
      "\n",
      "Annual_HH_Income\n"
     ]
    },
    {
     "data": {
      "image/png": "[encoded data removed]",
      "text/plain": [
       "<Figure size 432x288 with 1 Axes>"
      ]
     },
     "metadata": {
      "needs_background": "light"
     },
     "output_type": "display_data"
    },
    {
     "name": "stdout",
     "output_type": "stream",
     "text": [
      "\n",
      "\n"
     ]
    }
   ],
   "source": [
    "import matplotlib.pyplot as plt\n",
    "from scipy import stats\n",
    "\n",
    "data = df[['Mthly_HH_Income', 'Mthly_HH_Expense', 'Annual_HH_Income']]\n",
    "\n",
    "print('Before Box cox transformation: QQ plot')\n",
    "print('-------------------------------------')\n",
    "for i in data.columns:\n",
    "        print(i)\n",
    "        stats.probplot(data[i], dist=\"norm\", plot=plt)\n",
    "        plt.grid()\n",
    "        plt.show()\n",
    "        print('\\n')"
   ]
  },
  {
   "cell_type": "markdown",
   "metadata": {},
   "source": [
    "### Box cox transformation\n",
    "- Formally, A Box cox transformation is defined as a way to transform non-normal dependent variables in our data to a normal shape through which we can run a lot more tests than we could have.\n",
    "- Normality is a crucial assumption for majority of the statistical techniques; if our data isn’t normal, applying a Box cox means we are able to run a large number of tests."
   ]
  },
  {
   "cell_type": "code",
   "execution_count": 22,
   "metadata": {},
   "outputs": [
    {
     "name": "stdout",
     "output_type": "stream",
     "text": [
      "After Box cox transformation: QQ plot\n",
      "-------------------------------------\n",
      "Mthly_HH_Income\n"
     ]
    },
    {
     "data": {
      "image/png": "[encoded data removed]",
      "text/plain": [
       "<Figure size 432x288 with 1 Axes>"
      ]
     },
     "metadata": {
      "needs_background": "light"
     },
     "output_type": "display_data"
    },
    {
     "name": "stdout",
     "output_type": "stream",
     "text": [
      "\n",
      "\n",
      "Mthly_HH_Expense\n"
     ]
    },
    {
     "data": {
      "image/png": "[encoded data removed]",
      "text/plain": [
       "<Figure size 432x288 with 1 Axes>"
      ]
     },
     "metadata": {
      "needs_background": "light"
     },
     "output_type": "display_data"
    },
    {
     "name": "stdout",
     "output_type": "stream",
     "text": [
      "\n",
      "\n",
      "Annual_HH_Income\n"
     ]
    },
    {
     "data": {
      "image/png": "[encoded data removed]",
      "text/plain": [
       "<Figure size 432x288 with 1 Axes>"
      ]
     },
     "metadata": {
      "needs_background": "light"
     },
     "output_type": "display_data"
    },
    {
     "name": "stdout",
     "output_type": "stream",
     "text": [
      "\n",
      "\n"
     ]
    }
   ],
   "source": [
    "print('After Box cox transformation: QQ plot')\n",
    "print('-------------------------------------')\n",
    "\n",
    "for i in data:\n",
    "    print(i)\n",
    "    fitted_data, fitted_lambda = stats.boxcox(data[i])\n",
    "    stats.probplot(fitted_data, dist=\"norm\", plot=plt)\n",
    "    plt.grid()\n",
    "    plt.show()\n",
    "    print('\\n')"
   ]
  },
  {
   "cell_type": "code",
   "execution_count": null,
   "metadata": {},
   "outputs": [],
   "source": []
  }
 ],
 "metadata": {
  "kernelspec": {
   "display_name": "Python 3",
   "language": "python",
   "name": "python3"
  },
  "language_info": {
   "codemirror_mode": {
    "name": "ipython",
    "version": 3
   },
   "file_extension": ".py",
   "mimetype": "text/x-python",
   "name": "python",
   "nbconvert_exporter": "python",
   "pygments_lexer": "ipython3",
   "version": "3.8.5"
  }
 },
 "nbformat": 4,
 "nbformat_minor": 4
}

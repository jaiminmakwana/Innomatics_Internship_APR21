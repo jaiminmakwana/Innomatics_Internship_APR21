{
 "cells": [
  {
   "cell_type": "code",
   "execution_count": 1,
   "metadata": {},
   "outputs": [],
   "source": [
    "import numpy as np\n",
    "import matplotlib.pyplot as plt\n",
    "from scipy.stats import norm, t"
   ]
  },
  {
   "cell_type": "markdown",
   "metadata": {},
   "source": [
    "### What is Hypothesis Testing ???"
   ]
  },
  {
   "cell_type": "markdown",
   "metadata": {},
   "source": [
    "Step - 1: $ \\\\ $ \n",
    "Null Hypothesis (Status Quo): $ H_0 \\ \\Rightarrow \\ \\leq, \\ \\geq, \\ = $ $ \\\\ $\n",
    "Alternate Hypothesis (Bold claim): $ H_1 \\ \\Rightarrow \\ >, \\ <, \\ \\neq  $  \n",
    "\n",
    "Step - 2:  \n",
    "* Collect a sample of size n\n",
    "* Compute the mean from this sample $ \\bar{x} $\n",
    "\n",
    "Step - 3:\n",
    "Compute Test Statistic:  \n",
    "* If population standard deviation is known $$ z = \\frac{\\bar{x} - \\mu}{\\sigma/\\sqrt[2]{n}}$$\n",
    "\n",
    "* If population standard deviation is unknown $$ t = \\frac{\\bar{x} - \\mu}{s/\\sqrt[2]{n}} $$"
   ]
  },
  {
   "cell_type": "code",
   "execution_count": 2,
   "metadata": {},
   "outputs": [],
   "source": [
    "# calculate z score for sample distribution\n",
    "\n",
    "def z_score(sam_size, sam_mean, pop_mean, pop_std):\n",
    "    return (sam_mean - pop_mean) / (pop_std / sample_size**0.5)"
   ]
  },
  {
   "cell_type": "markdown",
   "metadata": {},
   "source": [
    "Step - 4:\n",
    "Decide significance level $ \\alpha $. Lower $ \\alpha $ means you need stronger evidence to reject Null Hypothesis.\n"
   ]
  },
  {
   "cell_type": "markdown",
   "metadata": {},
   "source": [
    "Step - 5.1: Apply decision rule:\n",
    "\n",
    "* If test statistic is z-score -\n",
    "\n",
    "    * Two tailed z-test: $ \\\\ $\n",
    "    $ |z| > z_\\frac{\\alpha}{2} \\Rightarrow Accept \\ H_1 \\ or \\ Reject \\ H_0 $\n",
    "    $ \\\\ $\n",
    "    \n",
    "    * Right tailed z-test:  $ \\\\ $\n",
    "    $ z > z_\\alpha \\Rightarrow Accept \\ H_1 \\ or \\ Reject \\ H_0 $\n",
    "    $ \\\\ $\n",
    "    \n",
    "    * Left tailed z-test: $ \\\\ $\n",
    "    $ z < -z_\\alpha \\Rightarrow Accept \\ H_1 \\ or \\ Reject \\ H_0 $\n",
    "    $ \\\\ $\n",
    "    \n",
    "* If test statistic is t-score\n",
    "\n",
    "    * Two tailed t-test: $ \\\\ $\n",
    "    $ |t| > t_{n-1,\\frac{\\alpha}{2}} \\Rightarrow Accept \\ H_1 \\ or \\ Reject \\ H_0 $\n",
    "    $ \\\\ $\n",
    "    \n",
    "    * Right tailed t-test: $ \\\\ $\n",
    "    $ t > t_{n-1,\\alpha} \\Rightarrow Accept \\ H_1 \\ or \\ Reject \\ H_0 $\n",
    "    $ \\\\ $\n",
    "    \n",
    "    * Left tailed t-test: $ \\\\ $\n",
    "    $ t < t_{n-1,\\alpha} \\Rightarrow Accept \\ H_1 \\ or \\ Reject \\ H_0 $\n",
    "    $ \\\\ $"
   ]
  },
  {
   "cell_type": "markdown",
   "metadata": {},
   "source": [
    "Step - 5.2: Compute p-value $ P(Test \\ Statistics | H_0) $\n",
    "* For two tailed test: $ \\\\ $\n",
    "$ p \\ value = 2 * (1.0 - cdf(test \\ statistic)) $\n",
    "$ \\\\ $\n",
    "* For one tailed test: \n",
    "$ \\\\ $\n",
    "$ p \\ value = (1.0 - cdf(test \\ statistic)) $\n",
    "$ \\\\ $\n",
    "Now, $ \\\\ $\n",
    "$ if (p \\ value < \\alpha) \\Rightarrow Accept \\ H_1 \\ or \\ Reject \\ H_0 $"
   ]
  },
  {
   "cell_type": "markdown",
   "metadata": {},
   "source": [
    "### Unknown standard deviation of population"
   ]
  },
  {
   "cell_type": "markdown",
   "metadata": {},
   "source": [
    "#### Q-1: Pista House selling Hyderabadi Chicken Dum biryani claims that each parcel packet has 500 grams of biryani (also mentioned on the label of packet). You are sceptic of their claims and believe that on average each packet does not contain 500 grams of biryani. How do you prove your claim?"
   ]
  },
  {
   "cell_type": "markdown",
   "metadata": {},
   "source": [
    "Step - 1:  \n",
    "Null Hypothesis (Status Quo): \n",
    "$$ \\\\ H_0: \\textbf{Each packet contains exactly 500 grams biryani} $$\n",
    "Alternate Hypothesis (Bold claim): \n",
    "$$ \\\\ H_1: \\textbf{Each packet does not contain 500 grams biryani} $$\n",
    "\n",
    "\n",
    "Step - 2:  \n",
    "* Collect a sample of size n = 10 $$ [ 450, 240, 475, 510, 490, 498, 492, 488, 505, 480 ] $$\n",
    "* Compute sample mean $$ \\bar{x} \\ = \\ ? $$\n"
   ]
  },
  {
   "cell_type": "code",
   "execution_count": 3,
   "metadata": {},
   "outputs": [
    {
     "data": {
      "text/plain": [
       "462.8"
      ]
     },
     "execution_count": 3,
     "metadata": {},
     "output_type": "execute_result"
    }
   ],
   "source": [
    "sam_val = [450, 240, 475, 510, 490, 498, 492, 488, 505, 480]\n",
    "sam_mean = sum(sam_val) / len(sam_val)\n",
    "sam_mean"
   ]
  },
  {
   "cell_type": "markdown",
   "metadata": {},
   "source": [
    "Step - 3:\n",
    "Compute Test Statistic: \n",
    "* If population standard deviation is unknown \n",
    "$$ t = \\frac{\\bar{x} - \\mu}{s/\\sqrt[2]{n}} $$\n",
    "\n",
    "where, \n",
    "\n",
    "$$ s = \\sqrt{\\frac{\\sum({x} - \\bar{x})^2}{{n}-1}} $$"
   ]
  },
  {
   "cell_type": "code",
   "execution_count": 4,
   "metadata": {},
   "outputs": [
    {
     "data": {
      "text/plain": [
       "80.08578733666376"
      ]
     },
     "execution_count": 4,
     "metadata": {},
     "output_type": "execute_result"
    }
   ],
   "source": [
    "s = 0\n",
    "n = len(sam_val)\n",
    "for i in sam_val:\n",
    "    s += (i - sam_mean)**2\n",
    "\n",
    "sam_std = (s / (n-1))**0.5\n",
    "sam_std"
   ]
  },
  {
   "cell_type": "code",
   "execution_count": 5,
   "metadata": {},
   "outputs": [
    {
     "data": {
      "text/plain": [
       "-1.4688839664364375"
      ]
     },
     "execution_count": 5,
     "metadata": {},
     "output_type": "execute_result"
    }
   ],
   "source": [
    "pop_mean = 500\n",
    "sam_size = len(sam_val)\n",
    "t_score = (sam_mean - pop_mean) / (sam_std / sam_size**0.5)\n",
    "t_score"
   ]
  },
  {
   "cell_type": "code",
   "execution_count": 6,
   "metadata": {},
   "outputs": [
    {
     "data": {
      "text/plain": [
       "2.2621571627409915"
      ]
     },
     "execution_count": 6,
     "metadata": {},
     "output_type": "execute_result"
    }
   ],
   "source": [
    "# Two tail test with 95% of confidence\n",
    "\n",
    "# from scipy.stats import t\n",
    "\n",
    "alpha = 1 - 0.95\n",
    "\n",
    "t_critical = t.ppf(1 - alpha/2, df = 9)\n",
    "\n",
    "t_critical"
   ]
  },
  {
   "cell_type": "code",
   "execution_count": 7,
   "metadata": {},
   "outputs": [
    {
     "data": {
      "text/plain": [
       "Text(462.8, 0.0007, 'x_bar')"
      ]
     },
     "execution_count": 7,
     "metadata": {},
     "output_type": "execute_result"
    },
    {
     "data": {
      "image/png": "[encoded data removed]",
      "text/plain": [
       "<Figure size 432x288 with 1 Axes>"
      ]
     },
     "metadata": {
      "needs_background": "light"
     },
     "output_type": "display_data"
    }
   ],
   "source": [
    "# Ploting the sampling distribution with rejection regions\n",
    "\n",
    "# Defining the x minimum and x maximum\n",
    "x_min = 400\n",
    "x_max = 600\n",
    "\n",
    "\n",
    "# Defining the sampling distribution mean and sampling distribution std\n",
    "mean = pop_mean\n",
    "std = sam_std / sam_size**0.5\n",
    "\n",
    "\n",
    "# Ploting the graph and setting the x limits\n",
    "x = np.linspace(x_min, x_max, 100)\n",
    "y = norm.pdf(x, mean, std)\n",
    "plt.xlim(x_min, x_max)\n",
    "plt.plot(x, y)\n",
    "\n",
    "\n",
    "# Computing the left and right critical values (Two tailed Test)\n",
    "t_critical_left = pop_mean + (-t_critical * std)\n",
    "t_critical_right = pop_mean + (t_critical * std)\n",
    "\n",
    "\n",
    "# Shading the left rejection region\n",
    "x1 = np.linspace(x_min, t_critical_left, 100)\n",
    "y1 = norm.pdf(x1, mean, std)\n",
    "plt.fill_between(x1, y1, color='orange')\n",
    "\n",
    "\n",
    "# Shading the right rejection region\n",
    "x2 = np.linspace(t_critical_right, x_max, 100)\n",
    "y2 = norm.pdf(x2, mean, std)\n",
    "plt.fill_between(x2, y2, color='orange')\n",
    "\n",
    "\n",
    "# Ploting the sample mean and concluding the results \n",
    "plt.scatter(sam_mean, 0)\n",
    "plt.annotate(\"x_bar\", (sam_mean, 0.0007))"
   ]
  },
  {
   "cell_type": "code",
   "execution_count": 8,
   "metadata": {},
   "outputs": [
    {
     "name": "stdout",
     "output_type": "stream",
     "text": [
      "Fail to reject Null Hypothesis\n"
     ]
    }
   ],
   "source": [
    "# Conclusion of this t test\n",
    "\n",
    "if(np.abs(t_score) > t_critical):\n",
    "    print(\"Reject Null Hypothesis\")\n",
    "else:\n",
    "    print(\"Fail to reject Null Hypothesis\")"
   ]
  },
  {
   "cell_type": "code",
   "execution_count": 9,
   "metadata": {},
   "outputs": [
    {
     "name": "stdout",
     "output_type": "stream",
     "text": [
      "p_value =  0.08796463699424495\n",
      "Fail to reject Null Hypothesis\n"
     ]
    }
   ],
   "source": [
    "# Conclusion by p test\n",
    "\n",
    "p_value = 1.0 - t.cdf(np.abs(t_score), df = 9)\n",
    "\n",
    "print(\"p_value = \", p_value)\n",
    "\n",
    "if(p_value < alpha):\n",
    "    print(\"Reject Null Hypothesis\")\n",
    "else:\n",
    "    print(\"Fail to reject Null Hypothesis\")"
   ]
  },
  {
   "cell_type": "markdown",
   "metadata": {},
   "source": [
    "#### Q-2: You have developed a new Natural Language Processing Algorithms and done a user study. You claim that the average rating given by the users is greater than 4 on a scale of 1 to 5. How do you prove this to your client?"
   ]
  },
  {
   "cell_type": "markdown",
   "metadata": {},
   "source": [
    "Step - 1:  \n",
    "Null Hypothesis (Status Quo): \n",
    "$$ \\\\ H_0: \\textbf{Avg Rating  <= 4} $$\n",
    "Alternate Hypothesis (Bold claim): \n",
    "$$ \\\\ H_1: \\textbf{Avg Rating > 4} $$\n",
    "\n",
    "\n",
    "Step - 2:  \n",
    "* Collect a sample of size n = 10 $$ [ 5, 4, 5, 3, 5, 4, 5, 2, 5, 4, 5, 4, 5, 2, 4, 3, 4, 5, 5, 4 ] $$\n",
    "* Compute sample mean $$ \\bar{x} \\ = \\ ? $$"
   ]
  },
  {
   "cell_type": "code",
   "execution_count": 10,
   "metadata": {},
   "outputs": [
    {
     "data": {
      "text/plain": [
       "4.15"
      ]
     },
     "execution_count": 10,
     "metadata": {},
     "output_type": "execute_result"
    }
   ],
   "source": [
    "sam_val = [5, 4, 5, 3, 5, 4, 5, 2, 5, 4, 5, 4, 5, 2, 4, 3, 4, 5, 5, 4]\n",
    "sam_mean = sum(sam_val) / len(sam_val)\n",
    "sam_mean"
   ]
  },
  {
   "cell_type": "markdown",
   "metadata": {},
   "source": [
    "Step - 3:\n",
    "Compute Test Statistic: \n",
    "* If population standard deviation is unknown \n",
    "$$ t = \\frac{\\bar{x} - \\mu}{s/\\sqrt[2]{n}} $$\n",
    "\n",
    "where, \n",
    "\n",
    "$$ s = \\sqrt{\\frac{\\sum({x} - \\bar{x})^2}{{n}-1}} $$"
   ]
  },
  {
   "cell_type": "code",
   "execution_count": 11,
   "metadata": {},
   "outputs": [
    {
     "data": {
      "text/plain": [
       "0.9880869341680845"
      ]
     },
     "execution_count": 11,
     "metadata": {},
     "output_type": "execute_result"
    }
   ],
   "source": [
    "s = 0\n",
    "n = len(sam_val)\n",
    "for i in sam_val:\n",
    "    s += (i - sam_mean)**2\n",
    "\n",
    "sam_std = (s / (n-1))**0.5\n",
    "sam_std"
   ]
  },
  {
   "cell_type": "code",
   "execution_count": 12,
   "metadata": {},
   "outputs": [
    {
     "data": {
      "text/plain": [
       "0.6789082721903745"
      ]
     },
     "execution_count": 12,
     "metadata": {},
     "output_type": "execute_result"
    }
   ],
   "source": [
    "pop_mean = 4\n",
    "sam_size = len(sam_val)\n",
    "t_score = (sam_mean - pop_mean) / (sam_std / sam_size**0.5)\n",
    "t_score"
   ]
  },
  {
   "cell_type": "code",
   "execution_count": 13,
   "metadata": {},
   "outputs": [
    {
     "data": {
      "text/plain": [
       "1.729132811521367"
      ]
     },
     "execution_count": 13,
     "metadata": {},
     "output_type": "execute_result"
    }
   ],
   "source": [
    "# One tail test with 95% of confidence\n",
    "\n",
    "# from scipy.stats import t\n",
    "\n",
    "alpha = 1 - 0.95\n",
    "\n",
    "t_critical = t.ppf(1 - alpha, df = 19)\n",
    "\n",
    "t_critical"
   ]
  },
  {
   "cell_type": "code",
   "execution_count": 14,
   "metadata": {},
   "outputs": [
    {
     "data": {
      "text/plain": [
       "Text(4.15, 0.1, 'x_bar')"
      ]
     },
     "execution_count": 14,
     "metadata": {},
     "output_type": "execute_result"
    },
    {
     "data": {
      "image/png": "[encoded data removed]",
      "text/plain": [
       "<Figure size 432x288 with 1 Axes>"
      ]
     },
     "metadata": {
      "needs_background": "light"
     },
     "output_type": "display_data"
    }
   ],
   "source": [
    "# Ploting the sampling distribution with rejection regions\n",
    "\n",
    "# Defining the x minimum and x maximum\n",
    "x_min = 3.5\n",
    "x_max = 4.5\n",
    "\n",
    "\n",
    "# Defining the sampling distribution mean and sampling distribution std\n",
    "mean = pop_mean\n",
    "std = sam_std / (sam_size**0.5)\n",
    "\n",
    "\n",
    "# Ploting the graph and setting the x limits\n",
    "x = np.linspace(x_min, x_max, 100)\n",
    "y = norm.pdf(x, mean, std)\n",
    "plt.xlim(x_min, x_max)\n",
    "plt.plot(x, y)\n",
    "\n",
    "\n",
    "# Computing the right critical value (Right tailed Test)\n",
    "t_critical_right = pop_mean + (t_critical * std)\n",
    "\n",
    "\n",
    "# Shading the right rejection region\n",
    "x1 = np.linspace(t_critical_right, x_max, 100)\n",
    "y1 = norm.pdf(x1, mean, std)\n",
    "plt.fill_between(x1, y1, color='orange')\n",
    "\n",
    "\n",
    "# Ploting the sample mean and concluding the results \n",
    "plt.scatter(sam_mean, 0)\n",
    "plt.annotate(\"x_bar\", (sam_mean, 0.1))"
   ]
  },
  {
   "cell_type": "code",
   "execution_count": 15,
   "metadata": {},
   "outputs": [
    {
     "name": "stdout",
     "output_type": "stream",
     "text": [
      "Fail to reject Null Hypothesis\n"
     ]
    }
   ],
   "source": [
    "# Conclusion of this t test\n",
    "\n",
    "if(np.abs(t_score) > t_critical):\n",
    "    print(\"Reject Null Hypothesis\")\n",
    "else:\n",
    "    print(\"Fail to reject Null Hypothesis\")"
   ]
  },
  {
   "cell_type": "code",
   "execution_count": 16,
   "metadata": {},
   "outputs": [
    {
     "name": "stdout",
     "output_type": "stream",
     "text": [
      "p_value =  0.2526912478873471\n",
      "Fail to reject Null Hypothesis\n"
     ]
    }
   ],
   "source": [
    "# Conclusion by p test\n",
    "\n",
    "p_value = 1.0 - t.cdf(np.abs(t_score), df = 19)\n",
    "\n",
    "print(\"p_value = \", p_value)\n",
    "\n",
    "if(p_value < alpha):\n",
    "    print(\"Reject Null Hypothesis\")\n",
    "else:\n",
    "    print(\"Fail to reject Null Hypothesis\")"
   ]
  },
  {
   "cell_type": "markdown",
   "metadata": {},
   "source": [
    "#### Q-3: TATA has developed a better fuel management system for the SUV segment. They claim that with this system, on average the SUV's mileage is at least 15 km/litre?"
   ]
  },
  {
   "cell_type": "markdown",
   "metadata": {},
   "source": [
    "Step - 1:  \n",
    "Null Hypothesis (Status Quo): \n",
    "$$ \\\\ H_0: \\textbf{Avg Mileage  <= 15} $$\n",
    "Alternate Hypothesis (Bold claim): \n",
    "$$ \\\\ H_1: \\textbf{Avg Mileage > 15} $$\n",
    "\n",
    "\n",
    "Step - 2:  \n",
    "* Collect a sample of size n = 10 $$ [ 14.54, 15.63, 14.25, 13.25, 16.44, 13.58, 15.55, 14.32, 15.10, 16.78, 14.78, 14.36, 15.32, 15.22, 14.88 ] $$\n",
    "* Compute sample mean $$ \\bar{x} \\ = \\ ? $$"
   ]
  },
  {
   "cell_type": "code",
   "execution_count": 17,
   "metadata": {},
   "outputs": [
    {
     "data": {
      "text/plain": [
       "14.933333333333332"
      ]
     },
     "execution_count": 17,
     "metadata": {},
     "output_type": "execute_result"
    }
   ],
   "source": [
    "sam_val = [14.54, 15.63, 14.25, 13.25, 16.44, 13.58, 15.55, 14.32, 15.10, 16.78, 14.78, 14.36, 15.32, 15.22, 14.88 ]\n",
    "sam_mean = sum(sam_val) / len(sam_val)\n",
    "sam_mean"
   ]
  },
  {
   "cell_type": "markdown",
   "metadata": {},
   "source": [
    "Step - 3:\n",
    "Compute Test Statistic: \n",
    "* If population standard deviation is unknown \n",
    "$$ t = \\frac{\\bar{x} - \\mu}{s/\\sqrt[2]{n}} $$\n",
    "\n",
    "where, \n",
    "\n",
    "$$ s = \\sqrt{\\frac{\\sum({x} - \\bar{x})^2}{{n}-1}} $$"
   ]
  },
  {
   "cell_type": "code",
   "execution_count": 18,
   "metadata": {},
   "outputs": [
    {
     "data": {
      "text/plain": [
       "0.9570540115126114"
      ]
     },
     "execution_count": 18,
     "metadata": {},
     "output_type": "execute_result"
    }
   ],
   "source": [
    "s = 0\n",
    "n = len(sam_val)\n",
    "for i in sam_val:\n",
    "    s += (i - sam_mean)**2\n",
    "\n",
    "sam_std = (s / (n-1))**0.5\n",
    "sam_std"
   ]
  },
  {
   "cell_type": "code",
   "execution_count": 19,
   "metadata": {},
   "outputs": [
    {
     "data": {
      "text/plain": [
       "-0.26978507653824796"
      ]
     },
     "execution_count": 19,
     "metadata": {},
     "output_type": "execute_result"
    }
   ],
   "source": [
    "pop_mean = 15\n",
    "sam_size = len(sam_val)\n",
    "t_score = (sam_mean - pop_mean) / (sam_std / sam_size**0.5)\n",
    "t_score"
   ]
  },
  {
   "cell_type": "code",
   "execution_count": 20,
   "metadata": {},
   "outputs": [
    {
     "data": {
      "text/plain": [
       "1.7613101357748562"
      ]
     },
     "execution_count": 20,
     "metadata": {},
     "output_type": "execute_result"
    }
   ],
   "source": [
    "# One tail test with 95% of confidence\n",
    "\n",
    "# from scipy.stats import t\n",
    "\n",
    "alpha = 1 - 0.95\n",
    "\n",
    "t_critical = t.ppf(1 - alpha, df = 14)\n",
    "\n",
    "t_critical"
   ]
  },
  {
   "cell_type": "code",
   "execution_count": 21,
   "metadata": {},
   "outputs": [
    {
     "data": {
      "text/plain": [
       "Text(14.933333333333332, 0.1, 'x_bar')"
      ]
     },
     "execution_count": 21,
     "metadata": {},
     "output_type": "execute_result"
    },
    {
     "data": {
      "image/png": "[encoded data removed]",
      "text/plain": [
       "<Figure size 432x288 with 1 Axes>"
      ]
     },
     "metadata": {
      "needs_background": "light"
     },
     "output_type": "display_data"
    }
   ],
   "source": [
    "# Ploting the sampling distribution with rejection regions\n",
    "\n",
    "# Defining the x minimum and x maximum\n",
    "x_min = 13\n",
    "x_max = 17\n",
    "\n",
    "\n",
    "# Defining the sampling distribution mean and sampling distribution std\n",
    "mean = pop_mean\n",
    "std = sam_std / (sam_size**0.5)\n",
    "\n",
    "\n",
    "# Ploting the graph and setting the x limits\n",
    "x = np.linspace(x_min, x_max, 100)\n",
    "y = norm.pdf(x, mean, std)\n",
    "plt.xlim(x_min, x_max)\n",
    "plt.plot(x, y)\n",
    "\n",
    "\n",
    "# Computing the right critical value (Right tailed Test)\n",
    "t_critical_right = pop_mean + (t_critical * std)\n",
    "\n",
    "\n",
    "# Shading the right rejection region\n",
    "x1 = np.linspace(t_critical_right, x_max, 100)\n",
    "y1 = norm.pdf(x1, mean, std)\n",
    "plt.fill_between(x1, y1, color='orange')\n",
    "\n",
    "\n",
    "# Ploting the sample mean and concluding the results \n",
    "plt.scatter(sam_mean, 0)\n",
    "plt.annotate(\"x_bar\", (sam_mean, 0.1))"
   ]
  },
  {
   "cell_type": "code",
   "execution_count": 22,
   "metadata": {},
   "outputs": [
    {
     "name": "stdout",
     "output_type": "stream",
     "text": [
      "Fail to reject Null Hypothesis\n"
     ]
    }
   ],
   "source": [
    "# Conclusion of this t test\n",
    "\n",
    "if(np.abs(t_score) > t_critical):\n",
    "    print(\"Reject Null Hypothesis\")\n",
    "else:\n",
    "    print(\"Fail to reject Null Hypothesis\")"
   ]
  },
  {
   "cell_type": "code",
   "execution_count": 23,
   "metadata": {},
   "outputs": [
    {
     "name": "stdout",
     "output_type": "stream",
     "text": [
      "p_value =  0.39563073551181427\n",
      "Fail to reject Null Hypothesis\n"
     ]
    }
   ],
   "source": [
    "# Conclusion by p test\n",
    "\n",
    "p_value = 1.0 - t.cdf(np.abs(t_score), df = 14)\n",
    "\n",
    "print(\"p_value = \", p_value)\n",
    "\n",
    "if(p_value < alpha):\n",
    "    print(\"Reject Null Hypothesis\")\n",
    "else:\n",
    "    print(\"Fail to reject Null Hypothesis\")"
   ]
  },
  {
   "cell_type": "markdown",
   "metadata": {},
   "source": [
    "#### Q-4: You have developed a new Machine Learning Application and claim that on average it takes less than 100 ms to predict for any future datapoint. How do you convince your client about this claim?"
   ]
  },
  {
   "cell_type": "markdown",
   "metadata": {},
   "source": [
    "Step - 1:  \n",
    "Null Hypothesis (Status Quo): \n",
    "$$ \\\\ H_0: \\textbf{Avg time to predict in ms >= 100} $$\n",
    "Alternate Hypothesis (Bold claim): \n",
    "$$ \\\\ H_1: \\textbf{Avg time to predict in ms < 100} $$\n",
    "\n",
    "\n",
    "Step - 2:  \n",
    "* Collect a sample of size n = 10 $$ [ 100.0, 96.22, 99.88, 98.18, 96.66, 99.39, 98.07, 96.45, 96.43, 98.78 ] $$\n",
    "* Compute sample mean $$ \\bar{x} \\ = \\ ? $$"
   ]
  },
  {
   "cell_type": "code",
   "execution_count": 24,
   "metadata": {},
   "outputs": [
    {
     "data": {
      "text/plain": [
       "98.00600000000001"
      ]
     },
     "execution_count": 24,
     "metadata": {},
     "output_type": "execute_result"
    }
   ],
   "source": [
    "# import random\n",
    "# l = []\n",
    "# for x in range(20):\n",
    "#     num = round(random.uniform(95, 100), 2)\n",
    "#     l.append(num)\n",
    "\n",
    "sam_val = [100.0, 96.22, 99.88, 98.18, 96.66, 99.39, 98.07, 96.45, 96.43, 98.78 ]\n",
    "sam_mean = sum(sam_val) / len(sam_val)\n",
    "sam_mean"
   ]
  },
  {
   "cell_type": "markdown",
   "metadata": {},
   "source": [
    "Step - 3:\n",
    "Compute Test Statistic: \n",
    "* If population standard deviation is unknown \n",
    "$$ t = \\frac{\\bar{x} - \\mu}{s/\\sqrt[2]{n}} $$\n",
    "\n",
    "where, \n",
    "\n",
    "$$ s = \\sqrt{\\frac{\\sum({x} - \\bar{x})^2}{{n}-1}} $$\n",
    "    "
   ]
  },
  {
   "cell_type": "code",
   "execution_count": 25,
   "metadata": {},
   "outputs": [
    {
     "data": {
      "text/plain": [
       "1.4885951617399382"
      ]
     },
     "execution_count": 25,
     "metadata": {},
     "output_type": "execute_result"
    }
   ],
   "source": [
    "s = 0\n",
    "n = len(sam_val)\n",
    "for i in sam_val:\n",
    "    s += (i - sam_mean)**2\n",
    "\n",
    "sam_std = (s / (n-1))**0.5\n",
    "sam_std"
   ]
  },
  {
   "cell_type": "code",
   "execution_count": 26,
   "metadata": {},
   "outputs": [
    {
     "data": {
      "text/plain": [
       "-4.235927817342527"
      ]
     },
     "execution_count": 26,
     "metadata": {},
     "output_type": "execute_result"
    }
   ],
   "source": [
    "pop_mean = 100\n",
    "sam_size = len(sam_val)\n",
    "t_score = (sam_mean - pop_mean) / (sam_std / sam_size**0.5)\n",
    "t_score"
   ]
  },
  {
   "cell_type": "code",
   "execution_count": 27,
   "metadata": {},
   "outputs": [
    {
     "data": {
      "text/plain": [
       "1.8331129326536335"
      ]
     },
     "execution_count": 27,
     "metadata": {},
     "output_type": "execute_result"
    }
   ],
   "source": [
    "# One tail test with 95% of confidence\n",
    "\n",
    "# from scipy.stats import t\n",
    "\n",
    "alpha = 1 - 0.95\n",
    "\n",
    "t_critical = t.ppf(1 - alpha, df = 9)\n",
    "\n",
    "t_critical"
   ]
  },
  {
   "cell_type": "code",
   "execution_count": 28,
   "metadata": {},
   "outputs": [
    {
     "data": {
      "text/plain": [
       "Text(98.00600000000001, 0.02, 'x_bar')"
      ]
     },
     "execution_count": 28,
     "metadata": {},
     "output_type": "execute_result"
    },
    {
     "data": {
      "image/png": "[encoded data removed]",
      "text/plain": [
       "<Figure size 432x288 with 1 Axes>"
      ]
     },
     "metadata": {
      "needs_background": "light"
     },
     "output_type": "display_data"
    }
   ],
   "source": [
    "x_min = 95\n",
    "x_max = 105\n",
    "\n",
    "mean = pop_mean\n",
    "std = sam_std / (sam_size**0.5)\n",
    "\n",
    "x = np.linspace(x_min, x_max, 100)\n",
    "y = norm.pdf(x, mean, std)\n",
    "\n",
    "plt.xlim(x_min, x_max)\n",
    "# plt.ylim(0, 0.03)\n",
    "\n",
    "plt.plot(x, y)\n",
    "\n",
    "t_critical_left = pop_mean + (-t_critical * std)\n",
    "\n",
    "x1 = np.linspace(x_min, t_critical_left, 100)\n",
    "y1 = norm.pdf(x1, mean, std)\n",
    "plt.fill_between(x1, y1, color='orange')\n",
    "\n",
    "plt.scatter(sam_mean, 0)\n",
    "plt.annotate(\"x_bar\", (sam_mean, 0.02))\n",
    "\n",
    "# In this case sample mean falls in the rejection region\n",
    "\n",
    "# i.e. Reject Null Hypothesis"
   ]
  },
  {
   "cell_type": "code",
   "execution_count": 29,
   "metadata": {},
   "outputs": [
    {
     "name": "stdout",
     "output_type": "stream",
     "text": [
      "Reject Null Hypothesis\n"
     ]
    }
   ],
   "source": [
    "# Conclusion of this t test\n",
    "\n",
    "if(np.abs(t_score) > t_critical):\n",
    "    print(\"Reject Null Hypothesis\")\n",
    "else:\n",
    "    print(\"Fail to reject Null Hypothesis\")"
   ]
  },
  {
   "cell_type": "code",
   "execution_count": 30,
   "metadata": {},
   "outputs": [
    {
     "name": "stdout",
     "output_type": "stream",
     "text": [
      "p_value =  0.0010936959686782544\n",
      "Reject Null Hypothesis\n"
     ]
    }
   ],
   "source": [
    "# Conclusion by p test\n",
    "\n",
    "p_value = 1.0 - t.cdf(np.abs(t_score), df = 9)\n",
    "\n",
    "print(\"p_value = \", p_value)\n",
    "\n",
    "if(p_value < alpha):\n",
    "    print(\"Reject Null Hypothesis\")\n",
    "else:\n",
    "    print(\"Fail to reject Null Hypothesis\")"
   ]
  },
  {
   "cell_type": "code",
   "execution_count": null,
   "metadata": {},
   "outputs": [],
   "source": []
  },
  {
   "cell_type": "code",
   "execution_count": null,
   "metadata": {},
   "outputs": [],
   "source": []
  }
 ],
 "metadata": {
  "kernelspec": {
   "display_name": "Python 3",
   "language": "python",
   "name": "python3"
  },
  "language_info": {
   "codemirror_mode": {
    "name": "ipython",
    "version": 3
   },
   "file_extension": ".py",
   "mimetype": "text/x-python",
   "name": "python",
   "nbconvert_exporter": "python",
   "pygments_lexer": "ipython3",
   "version": "3.8.5"
  }
 },
 "nbformat": 4,
 "nbformat_minor": 4
}
